{
 "cells": [
  {
   "cell_type": "markdown",
   "id": "40f49b19",
   "metadata": {},
   "source": [
    "## Assignment 3: Bond Pricing\n",
    "*By: Ashish Mathew*"
   ]
  },
  {
   "cell_type": "code",
   "execution_count": 3,
   "id": "6a3823f7",
   "metadata": {},
   "outputs": [],
   "source": [
    "#!pip install pandas numpy scipy seaborn matplotlib yfinance scikit-learn"
   ]
  },
  {
   "cell_type": "code",
   "execution_count": 4,
   "id": "01bcb343",
   "metadata": {},
   "outputs": [],
   "source": [
    "from datetime import datetime\n",
    "from scipy.optimize import newton"
   ]
  },
  {
   "cell_type": "markdown",
   "id": "f50959b4",
   "metadata": {},
   "source": [
    "### Bond Pricing Formula\n",
    "\n",
    "The price \\( P \\) of a bond is the present value of its future cash flows, which include periodic coupon payments and the face value at maturity.\n",
    "\n",
    "$\n",
    "P = \\sum_{t=1}^{N} \\frac{C}{(1 + r)^t} + \\frac{F}{(1 + r)^N}\n",
    "$\n",
    "\n",
    "Where:\n",
    "\n",
    "- \\( P \\) = Price of the bond  \n",
    "- \\( C \\) = Coupon payment per period  \n",
    "- \\( r \\) = Discount rate (market interest rate per period)  \n",
    "- \\( N \\) = Number of periods until maturity  \n",
    "- \\( F \\) = Face value (par value) of the bond "
   ]
  },
  {
   "cell_type": "markdown",
   "id": "bd128bba",
   "metadata": {},
   "source": [
    "#### Present Value of Coupon Payments (Using Geometric Progression)\n",
    "\n",
    "If a bond pays a fixed coupon \\( C \\) per period for \\( N \\) periods, and the discount rate per period is \\( r \\), the present value of all coupon payments is given by:\n",
    "\n",
    "$\n",
    "PV_{\\text{coupons}} = C \\cdot \\sum_{t=1}^{N} \\frac{1}{(1 + r)^t}\n",
    "$\n",
    "\n",
    "This is a finite geometric series with first term $( a = \\frac{1}{1 + r} )$ and common ratio $( q = \\frac{1}{1 + r} )$, so the closed-form formula is:\n",
    "\n",
    "$\n",
    "PV_{\\text{coupons}} = C \\cdot \\left( \\frac{1 - (1 + r)^{-N}}{r} \\right)\n",
    "$\n",
    "\n",
    "Where:\n",
    "\n",
    "- \\( C \\) = Coupon payment per period  \n",
    "- \\( r \\) = Discount rate per period  \n",
    "- \\( N \\) = Number of periods  "
   ]
  },
  {
   "cell_type": "code",
   "execution_count": 5,
   "id": "512ef0b8",
   "metadata": {},
   "outputs": [],
   "source": [
    "def CalculateBondPV(CouponRate, FaceValue, YTM, YearsToMaturity, CouponsPerYear):\n",
    "    \"\"\"\n",
    "    Calculate the present value (price) of a bond.\n",
    "\n",
    "    Parameters:\n",
    "    - CouponRate (float): Annual coupon rate (as a decimal, e.g., 0.05 for 5%)\n",
    "    - FaceValue (float): Face or par value of the bond (e.g., 1000)\n",
    "    - YTM (float): Annual yield to maturity (as a decimal, e.g., 0.04 for 4%)\n",
    "    - YearsToMaturity (int or float): Time remaining until the bond matures (in years)\n",
    "    - CouponsPerYear (int): Number of coupon payments per year (e.g., 2 for semi-annual)\n",
    "\n",
    "    Returns:\n",
    "    - float: Present value (price) of the bond\n",
    "    \"\"\"\n",
    "\n",
    "    # Calculate the coupon payment per period.\n",
    "    # CouponRate is annual, so divide by CouponsPerYear.\n",
    "    coupon_payment = CouponRate * FaceValue / CouponsPerYear\n",
    "\n",
    "    # Total number of periods (e.g., 2 years * 2 semiannual = 4 periods)\n",
    "    periods = YearsToMaturity * CouponsPerYear\n",
    "\n",
    "    # Periodic yield (YTM per period)\n",
    "    r = YTM / CouponsPerYear\n",
    "\n",
    "    # Present value of all coupon payments (geometric series formula)\n",
    "    pv_coupons = coupon_payment * (1 - (1 + r) ** (-periods)) / r\n",
    "\n",
    "    # Present value of the face value, discounted back from maturity\n",
    "    pv_facevalue = FaceValue / (1 + r) ** periods\n",
    "\n",
    "    # Total bond price = PV of coupons + PV of face value\n",
    "    bond_value = pv_facevalue + pv_coupons\n",
    "\n",
    "    return bond_value"
   ]
  },
  {
   "cell_type": "code",
   "execution_count": 6,
   "id": "159344d3",
   "metadata": {},
   "outputs": [],
   "source": [
    "def CalculateAccruedInterest(CouponRate, FaceValue, SettlementDate, LastCouponDate, CouponsPerYear):\n",
    "    # Extract date components\n",
    "    y1, m1, d1 = LastCouponDate.year, LastCouponDate.month, LastCouponDate.day\n",
    "    y2, m2, d2 = SettlementDate.year, SettlementDate.month, SettlementDate.day\n",
    "\n",
    "    # Apply 30/360 day count convention rules\n",
    "    if d2 == 31 and d1 >= 30:\n",
    "        d2 = 30\n",
    "    if d1 == 31:\n",
    "        d1 = 30\n",
    "    \n",
    "    # Calculate days between dates using 30/360 formula\n",
    "    days = (360 * (y2 - y1) + 30 * (m2 - m1) + (d2 - d1))\n",
    "\n",
    "    # Calculate days in coupon period (always 360/coupons_per_year in 30/360)\n",
    "    days_in_period = 360 / CouponsPerYear\n",
    "    # Calculate fraction of period\n",
    "    fraction = days / days_in_period\n",
    "\n",
    "    # Calculate accrued interest\n",
    "    accrued_interest = FaceValue * CouponRate * fraction / CouponsPerYear\n",
    "\n",
    "    return accrued_interest"
   ]
  },
  {
   "cell_type": "code",
   "execution_count": 7,
   "id": "7498198f",
   "metadata": {},
   "outputs": [],
   "source": [
    "def CalculateDirtyPrice(FaceValue, CouponRate, CouponsPerYear, YTM, YearsToMaturity, SettlementDate, LastCouponDate):\n",
    "    clean_price = CalculateBondPV(CouponRate, FaceValue, YTM, YearsToMaturity, CouponsPerYear)\n",
    "\n",
    "    accrued_interest = CalculateAccruedInterest(CouponRate, FaceValue, SettlementDate, LastCouponDate, CouponsPerYear)\n",
    "\n",
    "    dirty_price = clean_price + accrued_interest\n",
    "\n",
    "    return clean_price, accrued_interest, dirty_price"
   ]
  },
  {
   "cell_type": "markdown",
   "id": "efec949c",
   "metadata": {},
   "source": [
    "### GM Market Price Calculation"
   ]
  },
  {
   "cell_type": "markdown",
   "id": "8d870a7b",
   "metadata": {},
   "source": [
    "![alt-text](./assets/gm_bond.png)"
   ]
  },
  {
   "cell_type": "code",
   "execution_count": 8,
   "id": "0bbf9fd5",
   "metadata": {},
   "outputs": [
    {
     "name": "stdout",
     "output_type": "stream",
     "text": [
      "market price: $101.85\n"
     ]
    }
   ],
   "source": [
    "FaceValue = 100\n",
    "CouponRate = 5.65 / 100\n",
    "YearsToMaturity = 3\n",
    "YTM = 4.98 / 100\n",
    "CouponsPerYear = 2\n",
    "LastCouponDate = datetime(year = 2025, month=6, day=17)\n",
    "SettlementDate = datetime(year=2026, month=1, day=17)\n",
    "\n",
    "market_price = CalculateBondPV(CouponRate, FaceValue, YTM, YearsToMaturity, CouponsPerYear)\n",
    "\n",
    "print(f\"market price: ${market_price:.2f}\")"
   ]
  },
  {
   "cell_type": "code",
   "execution_count": 9,
   "id": "4b67d2ae",
   "metadata": {},
   "outputs": [],
   "source": [
    "# Function to solve for YTM\n",
    "def YTM_solver(MarketPrice, CouponRate, FaceValue, YearsToMaturity, CouponsPerYear):\n",
    "    \"\"\"\n",
    "    Solve for the Yield to Maturity (YTM) given market price and bond parameters.\n",
    "    \"\"\"\n",
    "\n",
    "    def objective_function(YTM_guess):\n",
    "        # Calculates the difference between calculated price and market price\n",
    "        return CalculateBondPV(CouponRate, FaceValue, YTM_guess, YearsToMaturity, CouponsPerYear) - MarketPrice\n",
    "\n",
    "    # Use Newton's method to find the root (YTM that gives the correct price)\n",
    "    ytm = newton(objective_function, x0=0.05)  # Initial guess = 5%\n",
    "    return ytm"
   ]
  },
  {
   "cell_type": "markdown",
   "id": "02a97793",
   "metadata": {},
   "source": [
    "### AMD Bond Yield-to-Maturity Calculation"
   ]
  },
  {
   "cell_type": "markdown",
   "id": "ac7efa1c",
   "metadata": {},
   "source": [
    "![alt-text](./assets/amd_bond.png)"
   ]
  },
  {
   "cell_type": "code",
   "execution_count": 10,
   "id": "0b16998d",
   "metadata": {},
   "outputs": [
    {
     "name": "stdout",
     "output_type": "stream",
     "text": [
      "Yield to maturity is 4.11%\n"
     ]
    }
   ],
   "source": [
    "MarketPrice = 100.10\n",
    "CouponRate = 4.212 / 100\n",
    "FaceValue = 100\n",
    "YearsToMaturity = 1\n",
    "CouponsPerYear = 2\n",
    "\n",
    "ytm = YTM_solver(MarketPrice, CouponRate, FaceValue, YearsToMaturity, CouponsPerYear)\n",
    "print(f\"Yield to maturity is {ytm*100:.2f}%\")"
   ]
  }
 ],
 "metadata": {
  "kernelspec": {
   "display_name": "FA",
   "language": "python",
   "name": "python3"
  },
  "language_info": {
   "codemirror_mode": {
    "name": "ipython",
    "version": 3
   },
   "file_extension": ".py",
   "mimetype": "text/x-python",
   "name": "python",
   "nbconvert_exporter": "python",
   "pygments_lexer": "ipython3",
   "version": "3.12.11"
  }
 },
 "nbformat": 4,
 "nbformat_minor": 5
}
