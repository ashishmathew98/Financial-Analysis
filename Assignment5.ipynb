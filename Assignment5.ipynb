{
 "cells": [
  {
   "cell_type": "markdown",
   "id": "d078e0c4",
   "metadata": {},
   "source": [
    "### Assignment 5: Option Pricing using Black Scholes Formula\n",
    "**By: Ashish Mathew**"
   ]
  },
  {
   "cell_type": "code",
   "execution_count": null,
   "id": "f7e8141b",
   "metadata": {},
   "outputs": [],
   "source": [
    "#!pip install pandas numpy scipy seaborn jupyter notebook yfinance"
   ]
  },
  {
   "cell_type": "code",
   "execution_count": 4,
   "id": "2fa8deaf",
   "metadata": {},
   "outputs": [],
   "source": [
    "import pandas as pd\n",
    "import numpy as np\n",
    "from scipy.optimize import brentq\n",
    "from scipy.stats import norm\n",
    "import warnings\n",
    "from datetime import datetime, timedelta\n",
    "import yfinance as yf\n",
    "\n",
    "warnings.filterwarnings('ignore')"
   ]
  },
  {
   "cell_type": "code",
   "execution_count": 60,
   "id": "9d7040c2",
   "metadata": {},
   "outputs": [],
   "source": [
    "def calc_annual_vol(ticker,start_dt,end_dt):\n",
    "    # Pull price data from yfinance\n",
    "    data = yf.download(tickers=ticker,start=start_dt,end=end_dt)\n",
    "    prices = data['Close']\n",
    "\n",
    "    daily_returns = prices.pct_change().dropna().values # Calculate Daily Return\n",
    "    daily_vol = np.std(daily_returns) \n",
    "    annual_vol = daily_vol * np.sqrt(252) # Assuming trading year has 252 days\n",
    "    last_price = prices.iloc[-1][0] # Latest close price\n",
    "\n",
    "    return last_price, annual_vol"
   ]
  },
  {
   "cell_type": "code",
   "execution_count": null,
   "id": "27b7d692",
   "metadata": {},
   "outputs": [],
   "source": [
    "def black_scholes(S, K, T, r, annual_vol, option_type='call'):\n",
    "    d1 = (np.log(S / K) + (r + 0.5 * annual_vol**2) * T) / (annual_vol * np.sqrt(T))\n",
    "    d2 = d1 - annual_vol * np.sqrt(T)\n",
    "\n",
    "    if option_type.lower() == 'call':\n",
    "        price = S * norm.cdf(d1) - K * np.exp(-r*T) * norm.cdf(d2)\n",
    "    elif option_type.lower() == 'put':\n",
    "        price = K * np.exp(-r * T) * norm.cdf(-d2) - S * norm.cdf(-d1)\n",
    "    else:\n",
    "        raise ValueError(\"option_type must be 'call' or 'put'\")\n",
    "    \n",
    "    return price"
   ]
  },
  {
   "cell_type": "code",
   "execution_count": 57,
   "id": "819fbfcb",
   "metadata": {},
   "outputs": [],
   "source": [
    "def objective_function(sigma):\n",
    "    return black_scholes(S,K,T,r,sigma,'call') - call_price\n",
    "\n",
    "def bisection_implied_vol(call_price,S,K,T,r,precision=1e-8,max_iter=100):\n",
    "    low_vol = 1e-3\n",
    "    high_vol = 5.0\n",
    "\n",
    "    for i in range(max_iter):\n",
    "        mid_vol = (low_vol + high_vol) / 2\n",
    "        price = black_scholes(S,K,T,r,mid_vol,'call')\n",
    "    \n",
    "        if abs(price - call_price) < precision:\n",
    "            return mid_vol\n",
    "        if price > call_price:\n",
    "            high_vol = mid_vol\n",
    "        else:\n",
    "            low_vol = mid_vol\n",
    "\n",
    "    return mid_vol"
   ]
  },
  {
   "cell_type": "code",
   "execution_count": 58,
   "id": "1db68d1c",
   "metadata": {},
   "outputs": [],
   "source": [
    "def calc_implied_volatility(call_price,S,K,T,r,initial_guess=0.2,max_iter=100,precision=1e-8):\n",
    "    \n",
    "    try:\n",
    "        implied_vol = brentq(objective_function,1e-3,5.0,xtol=precision,maxiter=max_iter)\n",
    "        return implied_vol\n",
    "    except ValueError:\n",
    "        return bisection_implied_vol(call_price,S,K,T,r,\n",
    "                                     precision=precision,\n",
    "                                     max_iter=max_iter)"
   ]
  },
  {
   "cell_type": "code",
   "execution_count": 80,
   "id": "db93dc32",
   "metadata": {},
   "outputs": [],
   "source": [
    "def option_pricing(ticker,expiration_date,K,r):\n",
    "    \n",
    "    end_dt = datetime.today().date()\n",
    "    start_dt = end_dt - timedelta(days=365) # 1 year lookback\n",
    "    \n",
    "    print(f\"Pulling price data from {start_dt} to {end_dt} for {ticker}\")\n",
    "\n",
    "    S, sigma = calc_annual_vol(ticker,start_dt,end_dt)\n",
    "    print(f\"Last close price: ${S:.2f}\")\n",
    "    print(f\"Calculated Volatility: {100*sigma:.2f}%\")\n",
    "\n",
    "    T = expiration_date - end_dt\n",
    "    print(f\"Time to maturity: {T.days} days\")\n",
    "    T = T.days / 365\n",
    "\n",
    "    call_price = black_scholes(S,K,T,r,sigma,'call')\n",
    "    put_price = black_scholes(S,K,T,r,sigma,'put')\n",
    "\n",
    "    print(f\"Call option premium: ${call_price:.2f}\")\n",
    "    print(f\"Put option premium: ${put_price:.2f}\")\n",
    "\n",
    "    implied_vol = calc_implied_volatility(call_price,S,K,T,r)\n",
    "    print(f\"Implied Volatility: {100*implied_vol:.2f}%\")"
   ]
  },
  {
   "cell_type": "markdown",
   "id": "cd3d153a",
   "metadata": {},
   "source": [
    "![alt text](./assets/JPM_call.png)\n",
    "![alt text](./assets/JPM_put.png)"
   ]
  },
  {
   "cell_type": "code",
   "execution_count": 81,
   "id": "9fd5c385",
   "metadata": {},
   "outputs": [
    {
     "name": "stdout",
     "output_type": "stream",
     "text": [
      "Pulling price data from 2024-08-06 to 2025-08-06 for JPM\n"
     ]
    },
    {
     "name": "stderr",
     "output_type": "stream",
     "text": [
      "[*********************100%***********************]  1 of 1 completed"
     ]
    },
    {
     "name": "stdout",
     "output_type": "stream",
     "text": [
      "Last close price: $291.37\n",
      "Calculated Volatility: 27.54%\n",
      "Time to maturity: 2 days\n",
      "Call option premium: $3.16\n",
      "Put option premium: $1.71\n",
      "Implied Volatility: 20.00%\n"
     ]
    },
    {
     "name": "stderr",
     "output_type": "stream",
     "text": [
      "\n"
     ]
    }
   ],
   "source": [
    "expiration_date = datetime(2025,8,8).date()\n",
    "option_pricing('JPM',expiration_date,290,0.05)"
   ]
  },
  {
   "cell_type": "markdown",
   "id": "30075d4f",
   "metadata": {},
   "source": [
    "Our calculated volatility of 27.5% is much higher than the implied volatility listed by Yahoo Finance of 25%. This higher volatility number leads to an overestimation of option premiums since the premium is directly proportional to the volatility of the underlying"
   ]
  }
 ],
 "metadata": {
  "kernelspec": {
   "display_name": "Python 3 (ipykernel)",
   "language": "python",
   "name": "python3"
  },
  "language_info": {
   "codemirror_mode": {
    "name": "ipython",
    "version": 3
   },
   "file_extension": ".py",
   "mimetype": "text/x-python",
   "name": "python",
   "nbconvert_exporter": "python",
   "pygments_lexer": "ipython3",
   "version": "3.12.11"
  }
 },
 "nbformat": 4,
 "nbformat_minor": 5
}
